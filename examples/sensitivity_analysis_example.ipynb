{
 "cells": [
  {
   "cell_type": "markdown",
   "metadata": {},
   "source": [
    "# Preparations\n",
    "Let's get a dataset, split it to train and test and create a ML model fitted on the train set"
   ]
  },
  {
   "cell_type": "code",
   "execution_count": 1,
   "metadata": {},
   "outputs": [],
   "source": [
    "import numpy\n",
    "import pandas\n",
    "import sklearn\n",
    "import sklearn.datasets\n",
    "from matplotlib import pyplot as plt\n",
    "from pprint import pprint\n",
    "from sklearn.ensemble import RandomForestClassifier, RandomForestRegressor\n",
    "from sklearn.impute import SimpleImputer\n",
    "from sklearn.pipeline import Pipeline"
   ]
  },
  {
   "cell_type": "code",
   "execution_count": 2,
   "metadata": {},
   "outputs": [
    {
     "name": "stdout",
     "output_type": "stream",
     "text": [
      "Loaded dataset of size (1797, 64)\n"
     ]
    }
   ],
   "source": [
    "# get dataset\n",
    "x, y = sklearn.datasets.load_digits(return_X_y=True)\n",
    "feature_names = ['feature #%d' % k for k in range(x.shape[1])]\n",
    "print(\"Loaded dataset of size {}\".format(x.shape))\n"
   ]
  },
  {
   "cell_type": "code",
   "execution_count": 3,
   "metadata": {},
   "outputs": [
    {
     "name": "stdout",
     "output_type": "stream",
     "text": [
      "Added 5% missing values to dataset\n"
     ]
    }
   ],
   "source": [
    "# let's add some missing values to dataset\n",
    "\n",
    "rs = numpy.random.RandomState(0)\n",
    "nan_locs = numpy.ones(numpy.prod(x.shape))\n",
    "nan_locs[rs.permutation(len(nan_locs))[:int(len(nan_locs)*0.05)]] = numpy.nan\n",
    "nan_locs = nan_locs.reshape(x.shape)\n",
    "x = x * nan_locs\n",
    "print(\"Added 5% missing values to dataset\")"
   ]
  },
  {
   "cell_type": "code",
   "execution_count": 4,
   "metadata": {},
   "outputs": [
    {
     "name": "stdout",
     "output_type": "stream",
     "text": [
      "split to train/test\n"
     ]
    }
   ],
   "source": [
    "# create train/test sets\n",
    "itrain, itest = sklearn.model_selection.train_test_split(numpy.arange(len(y)), test_size=0.25)\n",
    "xtrain, xtest = x[itrain,:], x[itest,:]\n",
    "ytrain, ytest = y[itrain], y[itest]\n",
    "print(\"split to train/test\")"
   ]
  },
  {
   "cell_type": "code",
   "execution_count": 5,
   "metadata": {},
   "outputs": [
    {
     "name": "stdout",
     "output_type": "stream",
     "text": [
      "Finished training RandomForestClassifier\n"
     ]
    }
   ],
   "source": [
    "# train RandomForest with imputation preprocess\n",
    "# imputation preprocess is required for sensitivity to missing values\n",
    "\n",
    "estimators = []\n",
    "estimators.append(('Imputer', SimpleImputer()))\n",
    "estimators.append(('Estimator', RandomForestClassifier(n_estimators=10, random_state=0)))\n",
    "estimator = Pipeline(steps=estimators)\n",
    "    \n",
    "estimator.fit(xtrain, ytrain)\n",
    "print(\"Finished training {}\".format(type(estimator.steps[-1][1]).__name__))"
   ]
  },
  {
   "cell_type": "markdown",
   "metadata": {},
   "source": [
    "\n",
    "##  ---- Finished preparation  ----\n",
    "\n",
    "\n"
   ]
  },
  {
   "cell_type": "markdown",
   "metadata": {},
   "source": [
    "# Init Pytrust object\n",
    "Pytrust class requires the following information for the analysis:\n",
    "- Train Set\n",
    "- Test Set\n",
    "- sample meta data (e.g. sample weights) for each sample in Train/Test sets\n",
    "- columns meta data (e.g, feature names) for each column in dataset.\n",
    "- Model trained on Train Set\n",
    "- Metric used to measure model performance\n",
    "- Splitter - how data should be split. "
   ]
  },
  {
   "cell_type": "code",
   "execution_count": 6,
   "metadata": {},
   "outputs": [],
   "source": [
    "from pytolemaic.pytrust import PyTrust\n",
    "\n",
    "from pytolemaic.utils.dmd import DMD\n",
    "from pytolemaic.utils.general import GeneralUtils\n",
    "from pytolemaic.utils.metrics import Metrics\n"
   ]
  },
  {
   "cell_type": "code",
   "execution_count": 7,
   "metadata": {},
   "outputs": [],
   "source": [
    "# some definitions \n",
    "\n",
    "metric_of_interest = Metrics.recall.name\n",
    "\n",
    "## set splitting strategy\n",
    "splitter = 'shuffled'"
   ]
  },
  {
   "cell_type": "code",
   "execution_count": 8,
   "metadata": {},
   "outputs": [
    {
     "name": "stdout",
     "output_type": "stream",
     "text": [
      "Pytrust object initiated\n"
     ]
    }
   ],
   "source": [
    "## sample meta data (e.g. sample weight) - empty in this example\n",
    "sample_meta_train = None\n",
    "sample_meta_test = None\n",
    "\n",
    "# set the feature names names\n",
    "columns_meta = {DMD.FEATURE_NAMES: feature_names}\n",
    "\n",
    "pytrust = PyTrust(\n",
    "    model=estimator,\n",
    "    xtrain=xtrain, ytrain=ytrain,\n",
    "    xtest=xtest, ytest=ytest,\n",
    "    sample_meta_train=sample_meta_train, sample_meta_test=sample_meta_test,\n",
    "    columns_meta=columns_meta,\n",
    "    metric=metric_of_interest,\n",
    "    splitter=splitter)\n",
    "\n",
    "print(\"Pytrust object initiated\")"
   ]
  },
  {
   "cell_type": "markdown",
   "metadata": {},
   "source": [
    "# Sensitivity Analysis Example"
   ]
  },
  {
   "cell_type": "code",
   "execution_count": 9,
   "metadata": {},
   "outputs": [
    {
     "name": "stdout",
     "output_type": "stream",
     "text": [
      "{'MISSING': {'META': {'N_FEATURES': 64,\n",
      "                      'N_LOW': 17,\n",
      "                      'N_NON_ZERO': 50,\n",
      "                      'N_ZERO': 14},\n",
      "             'SENSITIVITY': {'feature #0': 0.0,\n",
      "                             'feature #1': 0.00455,\n",
      "                             'feature #10': 0.01421,\n",
      "                             'feature #11': 0.00782,\n",
      "                             'feature #12': 0.01871,\n",
      "                             'feature #13': 0.02623,\n",
      "                             'feature #14': 0.00853,\n",
      "                             'feature #15': 0.0,\n",
      "                             'feature #16': 0.0,\n",
      "                             'feature #17': 0.01375,\n",
      "                             'feature #18': 0.03145,\n",
      "                             'feature #19': 0.02262,\n",
      "                             'feature #2': 0.03012,\n",
      "                             'feature #20': 0.01199,\n",
      "                             'feature #21': 0.04079,\n",
      "                             'feature #22': 0.01091,\n",
      "                             'feature #23': 0.00455,\n",
      "                             'feature #24': 0.00253,\n",
      "                             'feature #25': 0.02078,\n",
      "                             'feature #26': 0.04984,\n",
      "                             'feature #27': 0.02848,\n",
      "                             'feature #28': 0.01963,\n",
      "                             'feature #29': 0.0186,\n",
      "                             'feature #3': 0.00202,\n",
      "                             'feature #30': 0.02538,\n",
      "                             'feature #31': 0.0,\n",
      "                             'feature #32': 0.0,\n",
      "                             'feature #33': 0.01098,\n",
      "                             'feature #34': 0.03756,\n",
      "                             'feature #35': 0.01404,\n",
      "                             'feature #36': 0.02946,\n",
      "                             'feature #37': 0.02278,\n",
      "                             'feature #38': 0.05293,\n",
      "                             'feature #39': 0.0,\n",
      "                             'feature #4': 0.00289,\n",
      "                             'feature #40': 0.0,\n",
      "                             'feature #41': 0.01148,\n",
      "                             'feature #42': 0.02749,\n",
      "                             'feature #43': 0.04373,\n",
      "                             'feature #44': 0.01044,\n",
      "                             'feature #45': 0.02956,\n",
      "                             'feature #46': 0.0227,\n",
      "                             'feature #47': 0.0,\n",
      "                             'feature #48': 0.0,\n",
      "                             'feature #49': 0.00202,\n",
      "                             'feature #5': 0.03045,\n",
      "                             'feature #50': 0.02129,\n",
      "                             'feature #51': 0.01855,\n",
      "                             'feature #52': 0.01522,\n",
      "                             'feature #53': 0.01506,\n",
      "                             'feature #54': 0.02997,\n",
      "                             'feature #55': 0.0,\n",
      "                             'feature #56': 0.0,\n",
      "                             'feature #57': 0.0,\n",
      "                             'feature #58': 0.01937,\n",
      "                             'feature #59': 0.01386,\n",
      "                             'feature #6': 0.00752,\n",
      "                             'feature #60': 0.02008,\n",
      "                             'feature #61': 0.03123,\n",
      "                             'feature #62': 0.03014,\n",
      "                             'feature #63': 0.00506,\n",
      "                             'feature #7': 0.0,\n",
      "                             'feature #8': 0.0,\n",
      "                             'feature #9': 0.01063}},\n",
      " 'SHUFFLE': {'META': {'N_FEATURES': 64,\n",
      "                      'N_LOW': 19,\n",
      "                      'N_NON_ZERO': 48,\n",
      "                      'N_ZERO': 16},\n",
      "             'SENSITIVITY': {'feature #0': 0.0,\n",
      "                             'feature #1': 0.00153,\n",
      "                             'feature #10': 0.01485,\n",
      "                             'feature #11': 0.01216,\n",
      "                             'feature #12': 0.01393,\n",
      "                             'feature #13': 0.02303,\n",
      "                             'feature #14': 0.0,\n",
      "                             'feature #15': 0.0,\n",
      "                             'feature #16': 0.0,\n",
      "                             'feature #17': 0.00899,\n",
      "                             'feature #18': 0.03301,\n",
      "                             'feature #19': 0.02548,\n",
      "                             'feature #2': 0.02458,\n",
      "                             'feature #20': 0.02167,\n",
      "                             'feature #21': 0.06776,\n",
      "                             'feature #22': 0.01734,\n",
      "                             'feature #23': 0.0,\n",
      "                             'feature #24': 0.0,\n",
      "                             'feature #25': 0.01597,\n",
      "                             'feature #26': 0.03252,\n",
      "                             'feature #27': 0.0138,\n",
      "                             'feature #28': 0.01706,\n",
      "                             'feature #29': 0.02421,\n",
      "                             'feature #3': 0.00641,\n",
      "                             'feature #30': 0.03143,\n",
      "                             'feature #31': 0.0,\n",
      "                             'feature #32': 0.0,\n",
      "                             'feature #33': 0.01662,\n",
      "                             'feature #34': 0.04758,\n",
      "                             'feature #35': 0.01811,\n",
      "                             'feature #36': 0.03828,\n",
      "                             'feature #37': 0.01167,\n",
      "                             'feature #38': 0.05106,\n",
      "                             'feature #39': 0.0,\n",
      "                             'feature #4': 0.00364,\n",
      "                             'feature #40': 0.0,\n",
      "                             'feature #41': 0.01167,\n",
      "                             'feature #42': 0.03242,\n",
      "                             'feature #43': 0.03927,\n",
      "                             'feature #44': 0.01414,\n",
      "                             'feature #45': 0.02269,\n",
      "                             'feature #46': 0.0303,\n",
      "                             'feature #47': 0.0,\n",
      "                             'feature #48': 0.0,\n",
      "                             'feature #49': 0.00636,\n",
      "                             'feature #5': 0.01971,\n",
      "                             'feature #50': 0.02081,\n",
      "                             'feature #51': 0.01655,\n",
      "                             'feature #52': 0.02054,\n",
      "                             'feature #53': 0.01615,\n",
      "                             'feature #54': 0.02326,\n",
      "                             'feature #55': 0.0,\n",
      "                             'feature #56': 0.0,\n",
      "                             'feature #57': 0.00219,\n",
      "                             'feature #58': 0.02164,\n",
      "                             'feature #59': 0.0135,\n",
      "                             'feature #6': 0.00772,\n",
      "                             'feature #60': 0.02976,\n",
      "                             'feature #61': 0.02683,\n",
      "                             'feature #62': 0.02305,\n",
      "                             'feature #63': 0.00192,\n",
      "                             'feature #7': 0.0,\n",
      "                             'feature #8': 0.0,\n",
      "                             'feature #9': 0.00682}},\n",
      " 'VULNERABILITY': {'IMPUTATION': 0.2026, 'LEAKAGE': 0.0, 'OVERFIIT': 0.5}}\n"
     ]
    },
    {
     "data": {
      "image/png": "[encoded data removed]",
      "text/plain": [
       "<Figure size 1440x480 with 1 Axes>"
      ]
     },
     "metadata": {},
     "output_type": "display_data"
    }
   ],
   "source": [
    "sensitivity_report = pytrust.sensitivity_report().simplified_keys()\n",
    "pprint(sensitivity_report)\n",
    "    \n",
    "shuffled = sensitivity_report['SHUFFLE']['SENSITIVITY']\n",
    "missing = sensitivity_report['MISSING']['SENSITIVITY']\n",
    "sorted_features = list(sorted(shuffled.keys(), key=lambda k: shuffled[k], reverse=True))\n",
    "y_shuffle = [shuffled[feature] for feature in sorted_features]\n",
    "y_missing = [missing[feature] for feature in sorted_features]\n",
    "\n",
    "fig = plt.figure(figsize=(18, 6), dpi= 80, facecolor='w', edgecolor='k')\n",
    "w = 0.8\n",
    "xloc = numpy.arange(len(sorted_features))*3*w\n",
    "plt.bar(xloc-w/2, y_shuffle, w, label='SHUFFLE')\n",
    "plt.bar(xloc+w/2, y_missing, w, label='MISSING')\n",
    "plt.xticks(xloc, sorted_features)\n",
    "plt.legend()\n",
    "plt.title('Feature Sensitivity')\n",
    "plt.draw()\n"
   ]
  },
  {
   "cell_type": "markdown",
   "metadata": {},
   "source": [
    "# Scoring example"
   ]
  },
  {
   "cell_type": "code",
   "execution_count": 10,
   "metadata": {},
   "outputs": [
    {
     "name": "stdout",
     "output_type": "stream",
     "text": [
      "{'QUALITY': 0.9933,\n",
      " 'recall': {'CI_HIGH': 0.92706, 'CI_LOW': 0.90972, 'SCORE_VALUE': 0.92336}}\n"
     ]
    },
    {
     "data": {
      "image/png": "[encoded data removed]",
      "text/plain": [
       "<Figure size 1440x480 with 1 Axes>"
      ]
     },
     "metadata": {},
     "output_type": "display_data"
    }
   ],
   "source": [
    "score_report = pytrust.scoring_report().simplified_keys()\n",
    "pprint(score_report)\n",
    "\n",
    "\n",
    "ci_low = score_report[metric_of_interest]['CI_LOW']\n",
    "score = score_report[metric_of_interest]['SCORE_VALUE']\n",
    "ci_high = score_report[metric_of_interest]['CI_HIGH']\n",
    "\n",
    "fig = plt.figure(figsize=(18, 6), dpi= 80, facecolor='w', edgecolor='k')\n",
    "\n",
    "xloc = numpy.arange(len(sorted_features))*3*w\n",
    "plt.bar((ci_high+ci_low)/2, 1, ci_high-ci_low)\n",
    "plt.bar(score, 1, min((ci_high-ci_low)/5, 0.01))\n",
    "plt.xticks([0, ci_low, ci_high, 1], ['0',\"{:.2f}\".format(ci_low), \"{:.2f}\".format(ci_high),'1'])\n",
    "plt.legend(['Confidence interval', '{} score={:.2f}'.format(metric_of_interest, score)])\n",
    "plt.title('Feature Sensitivity')\n",
    "plt.draw()\n"
   ]
  },
  {
   "cell_type": "markdown",
   "metadata": {},
   "source": [
    "# Quality report"
   ]
  },
  {
   "cell_type": "code",
   "execution_count": 11,
   "metadata": {},
   "outputs": [
    {
     "name": "stdout",
     "output_type": "stream",
     "text": [
      "{'test_set': {'overall_quality': 0.93971,\n",
      "              'quality_components': {'ci_ratio': 0.98122,\n",
      "                                     'separation_quality': 0.95849}},\n",
      " 'train_set': {'overall_quality': 0.2974,\n",
      "               'quality_components': {'imputation': 0.7974,\n",
      "                                      'leakage': 1.0,\n",
      "                                      'overfit': 0.5}}}\n"
     ]
    },
    {
     "data": {
      "image/png": "[encoded data removed]",
      "text/plain": [
       "<Figure size 1440x480 with 1 Axes>"
      ]
     },
     "metadata": {},
     "output_type": "display_data"
    }
   ],
   "source": [
    "quality_report = pytrust.quality_report().simplified_keys()\n",
    "\n",
    "pprint(quality_report)\n",
    "\n",
    "\n",
    "quality_components = {}\n",
    "\n",
    "quality_components.update(quality_report['train_set']['quality_components'])\n",
    "quality_components.update(quality_report['test_set']['quality_components'])\n",
    "\n",
    "components, quality = zip(*quality_components.items())\n",
    "components = [c.capitalize() for c in components]\n",
    "\n",
    "fig = plt.figure(figsize=(18, 6), dpi= 80, facecolor='w', edgecolor='k')\n",
    "w = 0.8\n",
    "xloc = numpy.arange(len(components))*3*w\n",
    "plt.bar(xloc, quality, w, color=['b' if q>0.5 else 'r' for q in quality])\n",
    "plt.xticks(xloc, components)\n",
    "plt.title('Dataset quality')\n",
    "plt.draw()"
   ]
  },
  {
   "cell_type": "code",
   "execution_count": null,
   "metadata": {},
   "outputs": [],
   "source": []
  }
 ],
 "metadata": {
  "kernelspec": {
   "display_name": "Python 3",
   "language": "python",
   "name": "python3"
  },
  "language_info": {
   "codemirror_mode": {
    "name": "ipython",
    "version": 3
   },
   "file_extension": ".py",
   "mimetype": "text/x-python",
   "name": "python",
   "nbconvert_exporter": "python",
   "pygments_lexer": "ipython3",
   "version": "3.6.8"
  }
 },
 "nbformat": 4,
 "nbformat_minor": 2
}
