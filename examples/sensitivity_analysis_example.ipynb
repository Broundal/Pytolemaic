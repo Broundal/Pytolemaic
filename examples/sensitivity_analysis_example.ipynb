{
 "cells": [
  {
   "cell_type": "markdown",
   "metadata": {},
   "source": [
    "# Preparations\n",
    "Let's get a dataset, split it to train and test and create a ML model fitted on the train set"
   ]
  },
  {
   "cell_type": "code",
   "execution_count": 1,
   "metadata": {},
   "outputs": [],
   "source": [
    "import numpy\n",
    "import pandas\n",
    "import sklearn\n",
    "import sklearn.datasets\n",
    "from matplotlib import pyplot as plt\n",
    "from pprint import pprint\n",
    "from sklearn.ensemble import RandomForestClassifier, RandomForestRegressor\n",
    "from sklearn.impute import SimpleImputer\n",
    "from sklearn.pipeline import Pipeline"
   ]
  },
  {
   "cell_type": "code",
   "execution_count": 2,
   "metadata": {},
   "outputs": [
    {
     "name": "stdout",
     "output_type": "stream",
     "text": [
      "Loaded dataset of size (1797, 64)\n"
     ]
    }
   ],
   "source": [
    "# get dataset\n",
    "x, y = sklearn.datasets.load_digits(return_X_y=True)\n",
    "feature_names = ['feature #%d' % k for k in range(x.shape[1])]\n",
    "print(\"Loaded dataset of size {}\".format(x.shape))\n"
   ]
  },
  {
   "cell_type": "code",
   "execution_count": 3,
   "metadata": {},
   "outputs": [
    {
     "name": "stdout",
     "output_type": "stream",
     "text": [
      "Added 5% missing values to dataset\n"
     ]
    }
   ],
   "source": [
    "# let's add some missing values to dataset\n",
    "\n",
    "rs = numpy.random.RandomState(0)\n",
    "nan_locs = numpy.ones(numpy.prod(x.shape))\n",
    "nan_locs[rs.permutation(len(nan_locs))[:int(len(nan_locs)*0.05)]] = numpy.nan\n",
    "nan_locs = nan_locs.reshape(x.shape)\n",
    "x = x * nan_locs\n",
    "print(\"Added 5% missing values to dataset\")"
   ]
  },
  {
   "cell_type": "code",
   "execution_count": 4,
   "metadata": {},
   "outputs": [
    {
     "name": "stdout",
     "output_type": "stream",
     "text": [
      "split to train/test\n"
     ]
    }
   ],
   "source": [
    "# create train/test sets\n",
    "itrain, itest = sklearn.model_selection.train_test_split(numpy.arange(len(y)), test_size=0.25)\n",
    "xtrain, xtest = x[itrain,:], x[itest,:]\n",
    "ytrain, ytest = y[itrain], y[itest]\n",
    "print(\"split to train/test\")"
   ]
  },
  {
   "cell_type": "code",
   "execution_count": 5,
   "metadata": {},
   "outputs": [
    {
     "name": "stdout",
     "output_type": "stream",
     "text": [
      "Finished training RandomForestClassifier\n"
     ]
    }
   ],
   "source": [
    "# train RandomForest with imputation preprocess\n",
    "# imputation preprocess is required for sensitivity to missing values\n",
    "\n",
    "estimators = []\n",
    "estimators.append(('Imputer', SimpleImputer()))\n",
    "estimators.append(('Estimator', RandomForestClassifier(n_estimators=10, random_state=0)))\n",
    "estimator = Pipeline(steps=estimators)\n",
    "    \n",
    "estimator.fit(xtrain, ytrain)\n",
    "print(\"Finished training {}\".format(type(estimator.steps[-1][1]).__name__))"
   ]
  },
  {
   "cell_type": "markdown",
   "metadata": {},
   "source": [
    "\n",
    "##  ---- Finished preparation  ----\n",
    "\n",
    "\n"
   ]
  },
  {
   "cell_type": "markdown",
   "metadata": {},
   "source": [
    "# Init Pytrust object\n",
    "Pytrust class requires the following information for the analysis:\n",
    "- Train Set\n",
    "- Test Set\n",
    "- sample meta data (e.g. sample weights) for each sample in Train/Test sets\n",
    "- columns meta data (e.g, feature names) for each column in dataset.\n",
    "- Model trained on Train Set\n",
    "- Metric used to measure model performance\n",
    "- Splitter - how data should be split. "
   ]
  },
  {
   "cell_type": "code",
   "execution_count": 6,
   "metadata": {},
   "outputs": [],
   "source": [
    "from pytolemaic.pytrust import SklearnTrustBase\n",
    "\n",
    "from pytolemaic.utils.dmd import DMD\n",
    "from pytolemaic.utils.general import GeneralUtils\n",
    "from pytolemaic.utils.metrics import Metrics\n"
   ]
  },
  {
   "cell_type": "code",
   "execution_count": 7,
   "metadata": {},
   "outputs": [],
   "source": [
    "# some definitions \n",
    "\n",
    "metric_of_interest = Metrics.recall.name\n",
    "\n",
    "## set splitting strategy\n",
    "splitter = 'shuffled'"
   ]
  },
  {
   "cell_type": "code",
   "execution_count": 8,
   "metadata": {},
   "outputs": [
    {
     "name": "stdout",
     "output_type": "stream",
     "text": [
      "Pytrust object initiated\n"
     ]
    }
   ],
   "source": [
    "## sample meta data (e.g. sample weight) - empty in this example\n",
    "sample_meta_train = None\n",
    "sample_meta_test = None\n",
    "\n",
    "# set the feature names names\n",
    "columns_meta = {DMD.FEATURE_NAMES: feature_names}\n",
    "\n",
    "pytrust = SklearnTrustBase(\n",
    "    model=estimator,\n",
    "    xtrain=xtrain, ytrain=ytrain,\n",
    "    xtest=xtest, ytest=ytest,\n",
    "    sample_meta_train=sample_meta_train, sample_meta_test=sample_meta_test,\n",
    "    columns_meta=columns_meta,\n",
    "    metric=metric_of_interest,\n",
    "    splitter=splitter)\n",
    "\n",
    "print(\"Pytrust object initiated\")"
   ]
  },
  {
   "cell_type": "markdown",
   "metadata": {},
   "source": [
    "# Sensitivity Analysis Example"
   ]
  },
  {
   "cell_type": "code",
   "execution_count": 9,
   "metadata": {},
   "outputs": [
    {
     "name": "stdout",
     "output_type": "stream",
     "text": [
      "{'MISSING': {'META': {'N_FEATURES': 64,\n",
      "                      'N_LOW': 15,\n",
      "                      'N_NON_ZERO': 52,\n",
      "                      'N_ZERO': 12},\n",
      "             'SENSITIVITY': {'feature #0': 0.0,\n",
      "                             'feature #1': 0.0,\n",
      "                             'feature #10': 0.03469,\n",
      "                             'feature #11': 0.00388,\n",
      "                             'feature #12': 0.01962,\n",
      "                             'feature #13': 0.02541,\n",
      "                             'feature #14': 0.01183,\n",
      "                             'feature #15': 0.0,\n",
      "                             'feature #16': 0.00508,\n",
      "                             'feature #17': 0.00388,\n",
      "                             'feature #18': 0.01533,\n",
      "                             'feature #19': 0.03256,\n",
      "                             'feature #2': 0.01008,\n",
      "                             'feature #20': 0.02818,\n",
      "                             'feature #21': 0.03806,\n",
      "                             'feature #22': 0.02928,\n",
      "                             'feature #23': 0.00283,\n",
      "                             'feature #24': 0.0,\n",
      "                             'feature #25': 0.00388,\n",
      "                             'feature #26': 0.05347,\n",
      "                             'feature #27': 0.02506,\n",
      "                             'feature #28': 0.0171,\n",
      "                             'feature #29': 0.01749,\n",
      "                             'feature #3': 0.0048,\n",
      "                             'feature #30': 0.03824,\n",
      "                             'feature #31': 0.0,\n",
      "                             'feature #32': 0.0,\n",
      "                             'feature #33': 0.01249,\n",
      "                             'feature #34': 0.02919,\n",
      "                             'feature #35': 0.0331,\n",
      "                             'feature #36': 0.02177,\n",
      "                             'feature #37': 0.02008,\n",
      "                             'feature #38': 0.04267,\n",
      "                             'feature #39': 0.0,\n",
      "                             'feature #4': 0.01961,\n",
      "                             'feature #40': 0.00209,\n",
      "                             'feature #41': 0.01483,\n",
      "                             'feature #42': 0.0504,\n",
      "                             'feature #43': 0.04536,\n",
      "                             'feature #44': 0.01809,\n",
      "                             'feature #45': 0.01455,\n",
      "                             'feature #46': 0.0179,\n",
      "                             'feature #47': 0.0,\n",
      "                             'feature #48': 0.00558,\n",
      "                             'feature #49': 0.00663,\n",
      "                             'feature #5': 0.01412,\n",
      "                             'feature #50': 0.02037,\n",
      "                             'feature #51': 0.03127,\n",
      "                             'feature #52': 0.01787,\n",
      "                             'feature #53': 0.02732,\n",
      "                             'feature #54': 0.00649,\n",
      "                             'feature #55': 0.0,\n",
      "                             'feature #56': 0.0,\n",
      "                             'feature #57': 0.00209,\n",
      "                             'feature #58': 0.00741,\n",
      "                             'feature #59': 0.01188,\n",
      "                             'feature #6': 0.00197,\n",
      "                             'feature #60': 0.01273,\n",
      "                             'feature #61': 0.04059,\n",
      "                             'feature #62': 0.01571,\n",
      "                             'feature #63': 0.0,\n",
      "                             'feature #7': 0.0,\n",
      "                             'feature #8': 0.00551,\n",
      "                             'feature #9': 0.00955}},\n",
      " 'SHUFFLE': {'META': {'N_FEATURES': 64,\n",
      "                      'N_LOW': 18,\n",
      "                      'N_NON_ZERO': 47,\n",
      "                      'N_ZERO': 17},\n",
      "             'SENSITIVITY': {'feature #0': 0.0,\n",
      "                             'feature #1': 0.0,\n",
      "                             'feature #10': 0.03997,\n",
      "                             'feature #11': 0.01047,\n",
      "                             'feature #12': 0.01768,\n",
      "                             'feature #13': 0.02599,\n",
      "                             'feature #14': 0.01219,\n",
      "                             'feature #15': 0.0,\n",
      "                             'feature #16': 0.0,\n",
      "                             'feature #17': 0.00755,\n",
      "                             'feature #18': 0.01972,\n",
      "                             'feature #19': 0.05266,\n",
      "                             'feature #2': 0.01228,\n",
      "                             'feature #20': 0.03621,\n",
      "                             'feature #21': 0.06152,\n",
      "                             'feature #22': 0.02047,\n",
      "                             'feature #23': 0.0,\n",
      "                             'feature #24': 0.0,\n",
      "                             'feature #25': 0.00911,\n",
      "                             'feature #26': 0.0494,\n",
      "                             'feature #27': 0.01268,\n",
      "                             'feature #28': 0.02355,\n",
      "                             'feature #29': 0.01364,\n",
      "                             'feature #3': 0.00449,\n",
      "                             'feature #30': 0.02557,\n",
      "                             'feature #31': 0.0,\n",
      "                             'feature #32': 0.0,\n",
      "                             'feature #33': 0.0228,\n",
      "                             'feature #34': 0.02861,\n",
      "                             'feature #35': 0.02904,\n",
      "                             'feature #36': 0.03497,\n",
      "                             'feature #37': 0.02258,\n",
      "                             'feature #38': 0.0305,\n",
      "                             'feature #39': 0.0,\n",
      "                             'feature #4': 0.01944,\n",
      "                             'feature #40': 0.0,\n",
      "                             'feature #41': 0.00363,\n",
      "                             'feature #42': 0.03487,\n",
      "                             'feature #43': 0.04326,\n",
      "                             'feature #44': 0.02216,\n",
      "                             'feature #45': 0.01886,\n",
      "                             'feature #46': 0.01065,\n",
      "                             'feature #47': 0.0,\n",
      "                             'feature #48': 0.00211,\n",
      "                             'feature #49': 0.0058,\n",
      "                             'feature #5': 0.01226,\n",
      "                             'feature #50': 0.02151,\n",
      "                             'feature #51': 0.02261,\n",
      "                             'feature #52': 0.01481,\n",
      "                             'feature #53': 0.04404,\n",
      "                             'feature #54': 0.00941,\n",
      "                             'feature #55': 0.0,\n",
      "                             'feature #56': 0.0,\n",
      "                             'feature #57': 0.0,\n",
      "                             'feature #58': 0.00609,\n",
      "                             'feature #59': 0.01019,\n",
      "                             'feature #6': 0.0162,\n",
      "                             'feature #60': 0.00852,\n",
      "                             'feature #61': 0.03045,\n",
      "                             'feature #62': 0.01156,\n",
      "                             'feature #63': 0.0,\n",
      "                             'feature #7': 0.0,\n",
      "                             'feature #8': 0.0,\n",
      "                             'feature #9': 0.00793}},\n",
      " 'VULNERABILITY': {'IMPUTATION': 0.2553, 'LEAKAGE': 0.0, 'OVERFIIT': 0.51539}}\n"
     ]
    },
    {
     "data": {
      "image/png": "[encoded data removed]",
      "text/plain": [
       "<Figure size 1440x480 with 1 Axes>"
      ]
     },
     "metadata": {},
     "output_type": "display_data"
    }
   ],
   "source": [
    "sensitivity_report = pytrust.sensitivity_report().simplified_keys()\n",
    "pprint(sensitivity_report)\n",
    "    \n",
    "shuffled = sensitivity_report['SHUFFLE']['SENSITIVITY']\n",
    "missing = sensitivity_report['MISSING']['SENSITIVITY']\n",
    "sorted_features = list(sorted(shuffled.keys(), key=lambda k: shuffled[k], reverse=True))\n",
    "y_shuffle = [shuffled[feature] for feature in sorted_features]\n",
    "y_missing = [missing[feature] for feature in sorted_features]\n",
    "\n",
    "fig = plt.figure(figsize=(18, 6), dpi= 80, facecolor='w', edgecolor='k')\n",
    "w = 0.8\n",
    "xloc = numpy.arange(len(sorted_features))*3*w\n",
    "plt.bar(xloc-w/2, y_shuffle, w, label='SHUFFLE')\n",
    "plt.bar(xloc+w/2, y_missing, w, label='MISSING')\n",
    "plt.xticks(xloc, sorted_features)\n",
    "plt.legend()\n",
    "plt.title('Feature Sensitivity')\n",
    "plt.draw()\n"
   ]
  },
  {
   "cell_type": "markdown",
   "metadata": {},
   "source": [
    "# Scoring example"
   ]
  },
  {
   "cell_type": "code",
   "execution_count": 10,
   "metadata": {},
   "outputs": [
    {
     "name": "stdout",
     "output_type": "stream",
     "text": [
      "{'QUALITY': 1.0,\n",
      " 'recall': {'CI_HIGH': 0.91537, 'CI_LOW': 0.90036, 'SCORE_VALUE': 0.91153}}\n"
     ]
    },
    {
     "data": {
      "image/png": "[encoded data removed]",
      "text/plain": [
       "<Figure size 1440x480 with 1 Axes>"
      ]
     },
     "metadata": {},
     "output_type": "display_data"
    }
   ],
   "source": [
    "score_report = pytrust.scoring_report().simplified_keys()\n",
    "pprint(score_report)\n",
    "\n",
    "\n",
    "ci_low = score_report[metric_of_interest]['CI_LOW']\n",
    "score = score_report[metric_of_interest]['SCORE_VALUE']\n",
    "ci_high = score_report[metric_of_interest]['CI_HIGH']\n",
    "\n",
    "fig = plt.figure(figsize=(18, 6), dpi= 80, facecolor='w', edgecolor='k')\n",
    "\n",
    "xloc = numpy.arange(len(sorted_features))*3*w\n",
    "plt.bar((ci_high+ci_low)/2, 1, ci_high-ci_low)\n",
    "plt.bar(score, 1, min((ci_high-ci_low)/5, 0.01))\n",
    "plt.xticks([0, ci_low, ci_high, 1], ['0',\"{:.2f}\".format(ci_low), \"{:.2f}\".format(ci_high),'1'])\n",
    "plt.legend(['Confidence interval', '{} score={:.2f}'.format(metric_of_interest, score)])\n",
    "plt.title('Feature Sensitivity')\n",
    "plt.draw()\n"
   ]
  },
  {
   "cell_type": "markdown",
   "metadata": {},
   "source": [
    "# Quality report"
   ]
  },
  {
   "cell_type": "code",
   "execution_count": 11,
   "metadata": {},
   "outputs": [
    {
     "name": "stdout",
     "output_type": "stream",
     "text": [
      "{'test_set': {'overall_quality': 0.9835331804767808,\n",
      "              'quality_components': {'ci_ratio': 0.9835331804767808,\n",
      "                                     'separation_quality': 1.0}},\n",
      " 'train_set': {'overall_quality': 0.2293099999999999,\n",
      "               'quality_components': {'imputation': 0.7446999999999999,\n",
      "                                      'leakage': 1.0,\n",
      "                                      'overfit': 0.48461}}}\n"
     ]
    },
    {
     "data": {
      "image/png": "[encoded data removed]",
      "text/plain": [
       "<Figure size 1440x480 with 1 Axes>"
      ]
     },
     "metadata": {},
     "output_type": "display_data"
    }
   ],
   "source": [
    "quality_report = pytrust.quality_report().simplified_keys()\n",
    "\n",
    "pprint(quality_report)\n",
    "\n",
    "\n",
    "quality_components = {}\n",
    "\n",
    "quality_components.update(quality_report['train_set']['quality_components'])\n",
    "quality_components.update(quality_report['test_set']['quality_components'])\n",
    "\n",
    "components, quality = zip(*quality_components.items())\n",
    "components = [c.capitalize() for c in components]\n",
    "\n",
    "fig = plt.figure(figsize=(18, 6), dpi= 80, facecolor='w', edgecolor='k')\n",
    "w = 0.8\n",
    "xloc = numpy.arange(len(components))*3*w\n",
    "plt.bar(xloc, quality, w, color=['b' if q>0.5 else 'r' for q in quality])\n",
    "plt.xticks(xloc, components)\n",
    "plt.title('Dataset quality')\n",
    "plt.draw()"
   ]
  },
  {
   "cell_type": "code",
   "execution_count": null,
   "metadata": {},
   "outputs": [],
   "source": []
  }
 ],
 "metadata": {
  "kernelspec": {
   "display_name": "Python 3",
   "language": "python",
   "name": "python3"
  },
  "language_info": {
   "codemirror_mode": {
    "name": "ipython",
    "version": 3
   },
   "file_extension": ".py",
   "mimetype": "text/x-python",
   "name": "python",
   "nbconvert_exporter": "python",
   "pygments_lexer": "ipython3",
   "version": "3.6.8"
  }
 },
 "nbformat": 4,
 "nbformat_minor": 2
}
